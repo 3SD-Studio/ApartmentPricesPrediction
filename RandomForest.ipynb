{
 "cells": [
  {
   "cell_type": "markdown",
   "id": "308c7dd6",
   "metadata": {},
   "source": [
    "# List of project's dependencies\n",
    "Below are listed imports that are needed for program to work properly commented with required install (see also requirements.txt)"
   ]
  },
  {
   "cell_type": "code",
   "execution_count": 85,
   "id": "a5aba91a",
   "metadata": {
    "ExecuteTime": {
     "end_time": "2024-05-01T22:00:54.407860600Z",
     "start_time": "2024-05-01T22:00:54.309129100Z"
    }
   },
   "outputs": [],
   "source": [
    "#List of imports\n",
    "import pandas as pd #pip install pandas\n",
    "import numpy as np\n",
    "from sklearn.model_selection import train_test_split\n",
    "from sklearn.ensemble import RandomForestRegressor"
   ]
  },
  {
   "cell_type": "markdown",
   "id": "19ad734c6df7e826",
   "metadata": {},
   "source": [
    "# Loading data\n",
    "To properly load data you need to download dataset from [link](https://www.kaggle.com/datasets/krzysztofjamroz/apartment-prices-in-poland/data)\n",
    "and paste it to `./data` directory.\n"
   ]
  },
  {
   "cell_type": "code",
   "execution_count": 86,
   "outputs": [
    {
     "data": {
      "text/plain": "                                     id       city          type  \\\n0      f8524536d4b09a0c8ccc0197ec9d7bde   szczecin  blockOfFlats   \n1      accbe77d4b360fea9735f138a50608dd   szczecin  blockOfFlats   \n2      8373aa373dbc3fe7ca3b7434166b8766   szczecin      tenement   \n3      0a68cd14c44ec5140143ece75d739535   szczecin      tenement   \n4      f66320e153c2441edc0fe293b54c8aeb   szczecin  blockOfFlats   \n...                                 ...        ...           ...   \n18900  ae88d7ea0a7a5fa0e9d287cfd78e5676  bydgoszcz  blockOfFlats   \n18901  6a4b30b5fcdee00bfe5bcc0da82df9b1  bydgoszcz  blockOfFlats   \n18902  1e7f4f1fdfea31eb84e071d697839632  bydgoszcz           NaN   \n18903  d971c4ed3aab9919bf203e96019a678e  bydgoszcz      tenement   \n18904  cd0241b70b79aaaf767a0dd3a7cfbb31  bydgoszcz           NaN   \n\n       squareMeters  rooms  floor  floorCount  buildYear   latitude  \\\n0             63.00    3.0    4.0        10.0     1980.0  53.378933   \n1             36.00    2.0    8.0        10.0        NaN  53.442692   \n2             73.02    3.0    2.0         3.0        NaN  53.452222   \n3             87.60    3.0    2.0         3.0        NaN  53.435100   \n4             66.00    3.0    1.0         3.0        NaN  53.410278   \n...             ...    ...    ...         ...        ...        ...   \n18900         84.00    3.0    NaN         4.0     2000.0  53.112927   \n18901         94.30    4.0    NaN         2.0     1998.0  53.115921   \n18902         50.12    2.0    1.0         1.0        NaN  53.126000   \n18903        100.00    4.0    3.0         4.0     1910.0  53.126000   \n18904         81.07    5.0    1.0         4.0     2019.0  53.115921   \n\n       longitude  ...  pharmacyDistance    ownership  buildingMaterial  \\\n0      14.625296  ...             0.413  condominium      concreteSlab   \n1      14.559690  ...             0.205  cooperative      concreteSlab   \n2      14.553333  ...             0.280  condominium             brick   \n3      14.532900  ...             0.087  condominium             brick   \n4      14.503611  ...             0.514  condominium               NaN   \n...          ...  ...               ...          ...               ...   \n18900  17.975630  ...             0.164  cooperative             brick   \n18901  17.956396  ...             0.428  condominium               NaN   \n18902  18.007900  ...             0.205  condominium             brick   \n18903  18.007900  ...             0.205  condominium             brick   \n18904  17.956396  ...             0.428  condominium               NaN   \n\n       condition  hasParkingSpace  hasBalcony  hasElevator  hasSecurity  \\\n0            NaN              yes         yes          yes           no   \n1            NaN               no         yes          yes           no   \n2            NaN               no          no           no           no   \n3            NaN              yes         yes           no           no   \n4            NaN               no          no           no           no   \n...          ...              ...         ...          ...          ...   \n18900        NaN              yes         yes           no           no   \n18901        NaN               no         yes           no           no   \n18902        NaN              yes          no           no           no   \n18903    premium              yes         yes           no           no   \n18904        NaN               no         yes          yes           no   \n\n       hasStorageRoom   price  \n0                 yes  415000  \n1                 yes  395995  \n2                  no  565000  \n3                 yes  640000  \n4                  no  759000  \n...               ...     ...  \n18900             yes  789000  \n18901             yes  699000  \n18902              no  360000  \n18903             yes  590000  \n18904              no  699000  \n\n[18905 rows x 28 columns]",
      "text/html": "<div>\n<style scoped>\n    .dataframe tbody tr th:only-of-type {\n        vertical-align: middle;\n    }\n\n    .dataframe tbody tr th {\n        vertical-align: top;\n    }\n\n    .dataframe thead th {\n        text-align: right;\n    }\n</style>\n<table border=\"1\" class=\"dataframe\">\n  <thead>\n    <tr style=\"text-align: right;\">\n      <th></th>\n      <th>id</th>\n      <th>city</th>\n      <th>type</th>\n      <th>squareMeters</th>\n      <th>rooms</th>\n      <th>floor</th>\n      <th>floorCount</th>\n      <th>buildYear</th>\n      <th>latitude</th>\n      <th>longitude</th>\n      <th>...</th>\n      <th>pharmacyDistance</th>\n      <th>ownership</th>\n      <th>buildingMaterial</th>\n      <th>condition</th>\n      <th>hasParkingSpace</th>\n      <th>hasBalcony</th>\n      <th>hasElevator</th>\n      <th>hasSecurity</th>\n      <th>hasStorageRoom</th>\n      <th>price</th>\n    </tr>\n  </thead>\n  <tbody>\n    <tr>\n      <th>0</th>\n      <td>f8524536d4b09a0c8ccc0197ec9d7bde</td>\n      <td>szczecin</td>\n      <td>blockOfFlats</td>\n      <td>63.00</td>\n      <td>3.0</td>\n      <td>4.0</td>\n      <td>10.0</td>\n      <td>1980.0</td>\n      <td>53.378933</td>\n      <td>14.625296</td>\n      <td>...</td>\n      <td>0.413</td>\n      <td>condominium</td>\n      <td>concreteSlab</td>\n      <td>NaN</td>\n      <td>yes</td>\n      <td>yes</td>\n      <td>yes</td>\n      <td>no</td>\n      <td>yes</td>\n      <td>415000</td>\n    </tr>\n    <tr>\n      <th>1</th>\n      <td>accbe77d4b360fea9735f138a50608dd</td>\n      <td>szczecin</td>\n      <td>blockOfFlats</td>\n      <td>36.00</td>\n      <td>2.0</td>\n      <td>8.0</td>\n      <td>10.0</td>\n      <td>NaN</td>\n      <td>53.442692</td>\n      <td>14.559690</td>\n      <td>...</td>\n      <td>0.205</td>\n      <td>cooperative</td>\n      <td>concreteSlab</td>\n      <td>NaN</td>\n      <td>no</td>\n      <td>yes</td>\n      <td>yes</td>\n      <td>no</td>\n      <td>yes</td>\n      <td>395995</td>\n    </tr>\n    <tr>\n      <th>2</th>\n      <td>8373aa373dbc3fe7ca3b7434166b8766</td>\n      <td>szczecin</td>\n      <td>tenement</td>\n      <td>73.02</td>\n      <td>3.0</td>\n      <td>2.0</td>\n      <td>3.0</td>\n      <td>NaN</td>\n      <td>53.452222</td>\n      <td>14.553333</td>\n      <td>...</td>\n      <td>0.280</td>\n      <td>condominium</td>\n      <td>brick</td>\n      <td>NaN</td>\n      <td>no</td>\n      <td>no</td>\n      <td>no</td>\n      <td>no</td>\n      <td>no</td>\n      <td>565000</td>\n    </tr>\n    <tr>\n      <th>3</th>\n      <td>0a68cd14c44ec5140143ece75d739535</td>\n      <td>szczecin</td>\n      <td>tenement</td>\n      <td>87.60</td>\n      <td>3.0</td>\n      <td>2.0</td>\n      <td>3.0</td>\n      <td>NaN</td>\n      <td>53.435100</td>\n      <td>14.532900</td>\n      <td>...</td>\n      <td>0.087</td>\n      <td>condominium</td>\n      <td>brick</td>\n      <td>NaN</td>\n      <td>yes</td>\n      <td>yes</td>\n      <td>no</td>\n      <td>no</td>\n      <td>yes</td>\n      <td>640000</td>\n    </tr>\n    <tr>\n      <th>4</th>\n      <td>f66320e153c2441edc0fe293b54c8aeb</td>\n      <td>szczecin</td>\n      <td>blockOfFlats</td>\n      <td>66.00</td>\n      <td>3.0</td>\n      <td>1.0</td>\n      <td>3.0</td>\n      <td>NaN</td>\n      <td>53.410278</td>\n      <td>14.503611</td>\n      <td>...</td>\n      <td>0.514</td>\n      <td>condominium</td>\n      <td>NaN</td>\n      <td>NaN</td>\n      <td>no</td>\n      <td>no</td>\n      <td>no</td>\n      <td>no</td>\n      <td>no</td>\n      <td>759000</td>\n    </tr>\n    <tr>\n      <th>...</th>\n      <td>...</td>\n      <td>...</td>\n      <td>...</td>\n      <td>...</td>\n      <td>...</td>\n      <td>...</td>\n      <td>...</td>\n      <td>...</td>\n      <td>...</td>\n      <td>...</td>\n      <td>...</td>\n      <td>...</td>\n      <td>...</td>\n      <td>...</td>\n      <td>...</td>\n      <td>...</td>\n      <td>...</td>\n      <td>...</td>\n      <td>...</td>\n      <td>...</td>\n      <td>...</td>\n    </tr>\n    <tr>\n      <th>18900</th>\n      <td>ae88d7ea0a7a5fa0e9d287cfd78e5676</td>\n      <td>bydgoszcz</td>\n      <td>blockOfFlats</td>\n      <td>84.00</td>\n      <td>3.0</td>\n      <td>NaN</td>\n      <td>4.0</td>\n      <td>2000.0</td>\n      <td>53.112927</td>\n      <td>17.975630</td>\n      <td>...</td>\n      <td>0.164</td>\n      <td>cooperative</td>\n      <td>brick</td>\n      <td>NaN</td>\n      <td>yes</td>\n      <td>yes</td>\n      <td>no</td>\n      <td>no</td>\n      <td>yes</td>\n      <td>789000</td>\n    </tr>\n    <tr>\n      <th>18901</th>\n      <td>6a4b30b5fcdee00bfe5bcc0da82df9b1</td>\n      <td>bydgoszcz</td>\n      <td>blockOfFlats</td>\n      <td>94.30</td>\n      <td>4.0</td>\n      <td>NaN</td>\n      <td>2.0</td>\n      <td>1998.0</td>\n      <td>53.115921</td>\n      <td>17.956396</td>\n      <td>...</td>\n      <td>0.428</td>\n      <td>condominium</td>\n      <td>NaN</td>\n      <td>NaN</td>\n      <td>no</td>\n      <td>yes</td>\n      <td>no</td>\n      <td>no</td>\n      <td>yes</td>\n      <td>699000</td>\n    </tr>\n    <tr>\n      <th>18902</th>\n      <td>1e7f4f1fdfea31eb84e071d697839632</td>\n      <td>bydgoszcz</td>\n      <td>NaN</td>\n      <td>50.12</td>\n      <td>2.0</td>\n      <td>1.0</td>\n      <td>1.0</td>\n      <td>NaN</td>\n      <td>53.126000</td>\n      <td>18.007900</td>\n      <td>...</td>\n      <td>0.205</td>\n      <td>condominium</td>\n      <td>brick</td>\n      <td>NaN</td>\n      <td>yes</td>\n      <td>no</td>\n      <td>no</td>\n      <td>no</td>\n      <td>no</td>\n      <td>360000</td>\n    </tr>\n    <tr>\n      <th>18903</th>\n      <td>d971c4ed3aab9919bf203e96019a678e</td>\n      <td>bydgoszcz</td>\n      <td>tenement</td>\n      <td>100.00</td>\n      <td>4.0</td>\n      <td>3.0</td>\n      <td>4.0</td>\n      <td>1910.0</td>\n      <td>53.126000</td>\n      <td>18.007900</td>\n      <td>...</td>\n      <td>0.205</td>\n      <td>condominium</td>\n      <td>brick</td>\n      <td>premium</td>\n      <td>yes</td>\n      <td>yes</td>\n      <td>no</td>\n      <td>no</td>\n      <td>yes</td>\n      <td>590000</td>\n    </tr>\n    <tr>\n      <th>18904</th>\n      <td>cd0241b70b79aaaf767a0dd3a7cfbb31</td>\n      <td>bydgoszcz</td>\n      <td>NaN</td>\n      <td>81.07</td>\n      <td>5.0</td>\n      <td>1.0</td>\n      <td>4.0</td>\n      <td>2019.0</td>\n      <td>53.115921</td>\n      <td>17.956396</td>\n      <td>...</td>\n      <td>0.428</td>\n      <td>condominium</td>\n      <td>NaN</td>\n      <td>NaN</td>\n      <td>no</td>\n      <td>yes</td>\n      <td>yes</td>\n      <td>no</td>\n      <td>no</td>\n      <td>699000</td>\n    </tr>\n  </tbody>\n</table>\n<p>18905 rows × 28 columns</p>\n</div>"
     },
     "execution_count": 86,
     "metadata": {},
     "output_type": "execute_result"
    }
   ],
   "source": [
    "data= pd.read_csv(r\".\\data\\apartments_pl_2023_08.csv\")\n",
    "data"
   ],
   "metadata": {
    "collapsed": false,
    "ExecuteTime": {
     "end_time": "2024-05-01T22:00:54.520612100Z",
     "start_time": "2024-05-01T22:00:54.315108900Z"
    }
   },
   "id": "ea062904-4f19-4fe1-8691-b6c067a531c9"
  },
  {
   "cell_type": "markdown",
   "source": [
    "# Data statistics visualisation\n",
    "Showing basic statistics of dataset."
   ],
   "metadata": {
    "collapsed": false
   },
   "id": "395cf25408d6cf75"
  },
  {
   "cell_type": "code",
   "execution_count": 87,
   "outputs": [
    {
     "data": {
      "text/plain": "       squareMeters         rooms         floor    floorCount     buildYear  \\\ncount  18905.000000  18905.000000  15467.000000  18643.000000  15634.000000   \nmean      58.509976      2.676752      3.339820      5.279783   1984.551043   \nstd       21.060168      0.903619      2.549141      3.333666     33.767929   \nmin       25.000000      1.000000      1.000000      1.000000   1850.000000   \n25%       44.200000      2.000000      2.000000      3.000000   1967.000000   \n50%       54.400000      3.000000      3.000000      4.000000   1990.000000   \n75%       68.200000      3.000000      4.000000      6.000000   2014.000000   \nmax      150.000000      6.000000     29.000000     29.000000   2023.000000   \n\n           latitude     longitude  centreDistance      poiCount  \\\ncount  18905.000000  18905.000000    18905.000000  18905.000000   \nmean      52.020411     19.516394        4.398444     20.099656   \nstd        1.353998      1.769053        2.857387     23.513874   \nmin       49.979110     14.447127        0.020000      0.000000   \n25%       51.109100     18.536220        2.070000      7.000000   \n50%       52.193604     19.908944        4.010000     13.000000   \n75%       52.412561     20.992010        6.180000     23.000000   \nmax       54.583210     23.207128       16.940000    208.000000   \n\n       schoolDistance  clinicDistance  postOfficeDistance  \\\ncount    18891.000000    18817.000000        18880.000000   \nmean         0.414897        1.002196            0.518748   \nstd          0.472782        0.913721            0.506783   \nmin          0.004000        0.005000            0.001000   \n25%          0.175000        0.367000            0.237000   \n50%          0.288000        0.700000            0.387000   \n75%          0.466500        1.286000            0.621000   \nmax          4.818000        4.996000            4.967000   \n\n       kindergartenDistance  restaurantDistance  collegeDistance  \\\ncount          18892.000000        18847.000000     18340.000000   \nmean               0.371033            0.356646         1.460047   \nstd                0.452338            0.475884         1.102847   \nmin                0.004000            0.001000         0.006000   \n25%                0.158000            0.118500         0.592000   \n50%                0.264000            0.235000         1.140000   \n75%                0.415000            0.417000         2.107000   \nmax                4.960000            4.985000         4.998000   \n\n       pharmacyDistance         price  \ncount      18878.000000  1.890500e+04  \nmean           0.364134  6.925592e+05  \nstd            0.469334  3.443890e+05  \nmin            0.003000  1.500000e+05  \n25%            0.145000  4.588000e+05  \n50%            0.239000  6.200000e+05  \n75%            0.405000  8.300000e+05  \nmax            4.992000  2.500000e+06  ",
      "text/html": "<div>\n<style scoped>\n    .dataframe tbody tr th:only-of-type {\n        vertical-align: middle;\n    }\n\n    .dataframe tbody tr th {\n        vertical-align: top;\n    }\n\n    .dataframe thead th {\n        text-align: right;\n    }\n</style>\n<table border=\"1\" class=\"dataframe\">\n  <thead>\n    <tr style=\"text-align: right;\">\n      <th></th>\n      <th>squareMeters</th>\n      <th>rooms</th>\n      <th>floor</th>\n      <th>floorCount</th>\n      <th>buildYear</th>\n      <th>latitude</th>\n      <th>longitude</th>\n      <th>centreDistance</th>\n      <th>poiCount</th>\n      <th>schoolDistance</th>\n      <th>clinicDistance</th>\n      <th>postOfficeDistance</th>\n      <th>kindergartenDistance</th>\n      <th>restaurantDistance</th>\n      <th>collegeDistance</th>\n      <th>pharmacyDistance</th>\n      <th>price</th>\n    </tr>\n  </thead>\n  <tbody>\n    <tr>\n      <th>count</th>\n      <td>18905.000000</td>\n      <td>18905.000000</td>\n      <td>15467.000000</td>\n      <td>18643.000000</td>\n      <td>15634.000000</td>\n      <td>18905.000000</td>\n      <td>18905.000000</td>\n      <td>18905.000000</td>\n      <td>18905.000000</td>\n      <td>18891.000000</td>\n      <td>18817.000000</td>\n      <td>18880.000000</td>\n      <td>18892.000000</td>\n      <td>18847.000000</td>\n      <td>18340.000000</td>\n      <td>18878.000000</td>\n      <td>1.890500e+04</td>\n    </tr>\n    <tr>\n      <th>mean</th>\n      <td>58.509976</td>\n      <td>2.676752</td>\n      <td>3.339820</td>\n      <td>5.279783</td>\n      <td>1984.551043</td>\n      <td>52.020411</td>\n      <td>19.516394</td>\n      <td>4.398444</td>\n      <td>20.099656</td>\n      <td>0.414897</td>\n      <td>1.002196</td>\n      <td>0.518748</td>\n      <td>0.371033</td>\n      <td>0.356646</td>\n      <td>1.460047</td>\n      <td>0.364134</td>\n      <td>6.925592e+05</td>\n    </tr>\n    <tr>\n      <th>std</th>\n      <td>21.060168</td>\n      <td>0.903619</td>\n      <td>2.549141</td>\n      <td>3.333666</td>\n      <td>33.767929</td>\n      <td>1.353998</td>\n      <td>1.769053</td>\n      <td>2.857387</td>\n      <td>23.513874</td>\n      <td>0.472782</td>\n      <td>0.913721</td>\n      <td>0.506783</td>\n      <td>0.452338</td>\n      <td>0.475884</td>\n      <td>1.102847</td>\n      <td>0.469334</td>\n      <td>3.443890e+05</td>\n    </tr>\n    <tr>\n      <th>min</th>\n      <td>25.000000</td>\n      <td>1.000000</td>\n      <td>1.000000</td>\n      <td>1.000000</td>\n      <td>1850.000000</td>\n      <td>49.979110</td>\n      <td>14.447127</td>\n      <td>0.020000</td>\n      <td>0.000000</td>\n      <td>0.004000</td>\n      <td>0.005000</td>\n      <td>0.001000</td>\n      <td>0.004000</td>\n      <td>0.001000</td>\n      <td>0.006000</td>\n      <td>0.003000</td>\n      <td>1.500000e+05</td>\n    </tr>\n    <tr>\n      <th>25%</th>\n      <td>44.200000</td>\n      <td>2.000000</td>\n      <td>2.000000</td>\n      <td>3.000000</td>\n      <td>1967.000000</td>\n      <td>51.109100</td>\n      <td>18.536220</td>\n      <td>2.070000</td>\n      <td>7.000000</td>\n      <td>0.175000</td>\n      <td>0.367000</td>\n      <td>0.237000</td>\n      <td>0.158000</td>\n      <td>0.118500</td>\n      <td>0.592000</td>\n      <td>0.145000</td>\n      <td>4.588000e+05</td>\n    </tr>\n    <tr>\n      <th>50%</th>\n      <td>54.400000</td>\n      <td>3.000000</td>\n      <td>3.000000</td>\n      <td>4.000000</td>\n      <td>1990.000000</td>\n      <td>52.193604</td>\n      <td>19.908944</td>\n      <td>4.010000</td>\n      <td>13.000000</td>\n      <td>0.288000</td>\n      <td>0.700000</td>\n      <td>0.387000</td>\n      <td>0.264000</td>\n      <td>0.235000</td>\n      <td>1.140000</td>\n      <td>0.239000</td>\n      <td>6.200000e+05</td>\n    </tr>\n    <tr>\n      <th>75%</th>\n      <td>68.200000</td>\n      <td>3.000000</td>\n      <td>4.000000</td>\n      <td>6.000000</td>\n      <td>2014.000000</td>\n      <td>52.412561</td>\n      <td>20.992010</td>\n      <td>6.180000</td>\n      <td>23.000000</td>\n      <td>0.466500</td>\n      <td>1.286000</td>\n      <td>0.621000</td>\n      <td>0.415000</td>\n      <td>0.417000</td>\n      <td>2.107000</td>\n      <td>0.405000</td>\n      <td>8.300000e+05</td>\n    </tr>\n    <tr>\n      <th>max</th>\n      <td>150.000000</td>\n      <td>6.000000</td>\n      <td>29.000000</td>\n      <td>29.000000</td>\n      <td>2023.000000</td>\n      <td>54.583210</td>\n      <td>23.207128</td>\n      <td>16.940000</td>\n      <td>208.000000</td>\n      <td>4.818000</td>\n      <td>4.996000</td>\n      <td>4.967000</td>\n      <td>4.960000</td>\n      <td>4.985000</td>\n      <td>4.998000</td>\n      <td>4.992000</td>\n      <td>2.500000e+06</td>\n    </tr>\n  </tbody>\n</table>\n</div>"
     },
     "execution_count": 87,
     "metadata": {},
     "output_type": "execute_result"
    }
   ],
   "source": [
    "data.describe()"
   ],
   "metadata": {
    "collapsed": false,
    "ExecuteTime": {
     "end_time": "2024-05-01T22:00:54.659275700Z",
     "start_time": "2024-05-01T22:00:54.527593800Z"
    }
   },
   "id": "1315ff546e96c442"
  },
  {
   "cell_type": "code",
   "execution_count": 88,
   "outputs": [
    {
     "name": "stdout",
     "output_type": "stream",
     "text": [
      "<class 'pandas.core.frame.DataFrame'>\n",
      "RangeIndex: 18905 entries, 0 to 18904\n",
      "Data columns (total 28 columns):\n",
      " #   Column                Non-Null Count  Dtype  \n",
      "---  ------                --------------  -----  \n",
      " 0   id                    18905 non-null  object \n",
      " 1   city                  18905 non-null  object \n",
      " 2   type                  14866 non-null  object \n",
      " 3   squareMeters          18905 non-null  float64\n",
      " 4   rooms                 18905 non-null  float64\n",
      " 5   floor                 15467 non-null  float64\n",
      " 6   floorCount            18643 non-null  float64\n",
      " 7   buildYear             15634 non-null  float64\n",
      " 8   latitude              18905 non-null  float64\n",
      " 9   longitude             18905 non-null  float64\n",
      " 10  centreDistance        18905 non-null  float64\n",
      " 11  poiCount              18905 non-null  float64\n",
      " 12  schoolDistance        18891 non-null  float64\n",
      " 13  clinicDistance        18817 non-null  float64\n",
      " 14  postOfficeDistance    18880 non-null  float64\n",
      " 15  kindergartenDistance  18892 non-null  float64\n",
      " 16  restaurantDistance    18847 non-null  float64\n",
      " 17  collegeDistance       18340 non-null  float64\n",
      " 18  pharmacyDistance      18878 non-null  float64\n",
      " 19  ownership             18905 non-null  object \n",
      " 20  buildingMaterial      11518 non-null  object \n",
      " 21  condition             4561 non-null   object \n",
      " 22  hasParkingSpace       18905 non-null  object \n",
      " 23  hasBalcony            18905 non-null  object \n",
      " 24  hasElevator           17979 non-null  object \n",
      " 25  hasSecurity           18905 non-null  object \n",
      " 26  hasStorageRoom        18905 non-null  object \n",
      " 27  price                 18905 non-null  int64  \n",
      "dtypes: float64(16), int64(1), object(11)\n",
      "memory usage: 4.0+ MB\n"
     ]
    }
   ],
   "source": [
    "data.info()"
   ],
   "metadata": {
    "collapsed": false,
    "ExecuteTime": {
     "end_time": "2024-05-01T22:00:54.662267600Z",
     "start_time": "2024-05-01T22:00:54.610294800Z"
    }
   },
   "id": "a39adc8a"
  },
  {
   "cell_type": "markdown",
   "source": [
    "# Preparing data"
   ],
   "metadata": {
    "collapsed": false
   },
   "id": "8a05510f4f5ee7ea"
  },
  {
   "cell_type": "code",
   "execution_count": 89,
   "outputs": [
    {
     "name": "stderr",
     "output_type": "stream",
     "text": [
      "C:\\Users\\djote\\AppData\\Local\\Temp\\ipykernel_8452\\2911608295.py:9: FutureWarning: A value is trying to be set on a copy of a DataFrame or Series through chained assignment using an inplace method.\n",
      "The behavior will change in pandas 3.0. This inplace method will never work because the intermediate object on which we are setting values always behaves as a copy.\n",
      "\n",
      "For example, when doing 'df[col].method(value, inplace=True)', try using 'df.method({col: value}, inplace=True)' or df[col] = df[col].method(value) instead, to perform the operation inplace on the original object.\n",
      "\n",
      "\n",
      "  data['hasElevator'].fillna('yes', inplace=True)\n",
      "C:\\Users\\djote\\AppData\\Local\\Temp\\ipykernel_8452\\2911608295.py:13: FutureWarning: DataFrame.applymap has been deprecated. Use DataFrame.map instead.\n",
      "  data[columns_to_change] = data[columns_to_change].applymap(lambda x: mapping.get(x, x))\n",
      "C:\\Users\\djote\\AppData\\Local\\Temp\\ipykernel_8452\\2911608295.py:25: FutureWarning: A value is trying to be set on a copy of a DataFrame or Series through chained assignment using an inplace method.\n",
      "The behavior will change in pandas 3.0. This inplace method will never work because the intermediate object on which we are setting values always behaves as a copy.\n",
      "\n",
      "For example, when doing 'df[col].method(value, inplace=True)', try using 'df.method({col: value}, inplace=True)' or df[col] = df[col].method(value) instead, to perform the operation inplace on the original object.\n",
      "\n",
      "\n",
      "  data['type_numerical'].fillna(median_type, inplace=True)\n",
      "C:\\Users\\djote\\AppData\\Local\\Temp\\ipykernel_8452\\2911608295.py:26: FutureWarning: A value is trying to be set on a copy of a DataFrame or Series through chained assignment using an inplace method.\n",
      "The behavior will change in pandas 3.0. This inplace method will never work because the intermediate object on which we are setting values always behaves as a copy.\n",
      "\n",
      "For example, when doing 'df[col].method(value, inplace=True)', try using 'df.method({col: value}, inplace=True)' or df[col] = df[col].method(value) instead, to perform the operation inplace on the original object.\n",
      "\n",
      "\n",
      "  data['floor'].fillna(median_floor, inplace=True)\n",
      "C:\\Users\\djote\\AppData\\Local\\Temp\\ipykernel_8452\\2911608295.py:27: FutureWarning: A value is trying to be set on a copy of a DataFrame or Series through chained assignment using an inplace method.\n",
      "The behavior will change in pandas 3.0. This inplace method will never work because the intermediate object on which we are setting values always behaves as a copy.\n",
      "\n",
      "For example, when doing 'df[col].method(value, inplace=True)', try using 'df.method({col: value}, inplace=True)' or df[col] = df[col].method(value) instead, to perform the operation inplace on the original object.\n",
      "\n",
      "\n",
      "  data['floorCount'].fillna(median_floorCount, inplace=True)\n"
     ]
    },
    {
     "data": {
      "text/plain": "   squareMeters  rooms  floor  floorCount   latitude  longitude  \\\n0         63.00    3.0    4.0        10.0  53.378933  14.625296   \n1         36.00    2.0    8.0        10.0  53.442692  14.559690   \n2         73.02    3.0    2.0         3.0  53.452222  14.553333   \n3         87.60    3.0    2.0         3.0  53.435100  14.532900   \n4         66.00    3.0    1.0         3.0  53.410278  14.503611   \n\n   centreDistance  poiCount  hasParkingSpace  hasBalcony  hasElevator  \\\n0            6.53       9.0                1           1            1   \n1            2.15      16.0                0           1            1   \n2            3.24       9.0                0           0            0   \n3            2.27      32.0                1           1            0   \n4            4.07       1.0                0           0            0   \n\n   hasSecurity  hasStorageRoom  type_numerical  city_numerical   price  \n0            0               1               0               0  415000  \n1            0               1               0               0  395995  \n2            0               0               1               0  565000  \n3            0               1               1               0  640000  \n4            0               0               0               0  759000  ",
      "text/html": "<div>\n<style scoped>\n    .dataframe tbody tr th:only-of-type {\n        vertical-align: middle;\n    }\n\n    .dataframe tbody tr th {\n        vertical-align: top;\n    }\n\n    .dataframe thead th {\n        text-align: right;\n    }\n</style>\n<table border=\"1\" class=\"dataframe\">\n  <thead>\n    <tr style=\"text-align: right;\">\n      <th></th>\n      <th>squareMeters</th>\n      <th>rooms</th>\n      <th>floor</th>\n      <th>floorCount</th>\n      <th>latitude</th>\n      <th>longitude</th>\n      <th>centreDistance</th>\n      <th>poiCount</th>\n      <th>hasParkingSpace</th>\n      <th>hasBalcony</th>\n      <th>hasElevator</th>\n      <th>hasSecurity</th>\n      <th>hasStorageRoom</th>\n      <th>type_numerical</th>\n      <th>city_numerical</th>\n      <th>price</th>\n    </tr>\n  </thead>\n  <tbody>\n    <tr>\n      <th>0</th>\n      <td>63.00</td>\n      <td>3.0</td>\n      <td>4.0</td>\n      <td>10.0</td>\n      <td>53.378933</td>\n      <td>14.625296</td>\n      <td>6.53</td>\n      <td>9.0</td>\n      <td>1</td>\n      <td>1</td>\n      <td>1</td>\n      <td>0</td>\n      <td>1</td>\n      <td>0</td>\n      <td>0</td>\n      <td>415000</td>\n    </tr>\n    <tr>\n      <th>1</th>\n      <td>36.00</td>\n      <td>2.0</td>\n      <td>8.0</td>\n      <td>10.0</td>\n      <td>53.442692</td>\n      <td>14.559690</td>\n      <td>2.15</td>\n      <td>16.0</td>\n      <td>0</td>\n      <td>1</td>\n      <td>1</td>\n      <td>0</td>\n      <td>1</td>\n      <td>0</td>\n      <td>0</td>\n      <td>395995</td>\n    </tr>\n    <tr>\n      <th>2</th>\n      <td>73.02</td>\n      <td>3.0</td>\n      <td>2.0</td>\n      <td>3.0</td>\n      <td>53.452222</td>\n      <td>14.553333</td>\n      <td>3.24</td>\n      <td>9.0</td>\n      <td>0</td>\n      <td>0</td>\n      <td>0</td>\n      <td>0</td>\n      <td>0</td>\n      <td>1</td>\n      <td>0</td>\n      <td>565000</td>\n    </tr>\n    <tr>\n      <th>3</th>\n      <td>87.60</td>\n      <td>3.0</td>\n      <td>2.0</td>\n      <td>3.0</td>\n      <td>53.435100</td>\n      <td>14.532900</td>\n      <td>2.27</td>\n      <td>32.0</td>\n      <td>1</td>\n      <td>1</td>\n      <td>0</td>\n      <td>0</td>\n      <td>1</td>\n      <td>1</td>\n      <td>0</td>\n      <td>640000</td>\n    </tr>\n    <tr>\n      <th>4</th>\n      <td>66.00</td>\n      <td>3.0</td>\n      <td>1.0</td>\n      <td>3.0</td>\n      <td>53.410278</td>\n      <td>14.503611</td>\n      <td>4.07</td>\n      <td>1.0</td>\n      <td>0</td>\n      <td>0</td>\n      <td>0</td>\n      <td>0</td>\n      <td>0</td>\n      <td>0</td>\n      <td>0</td>\n      <td>759000</td>\n    </tr>\n  </tbody>\n</table>\n</div>"
     },
     "execution_count": 89,
     "metadata": {},
     "output_type": "execute_result"
    }
   ],
   "source": [
    "data['type_numerical'] = pd.factorize(data['type'])[0]\n",
    "data['condition_numerical'] = pd.factorize(data['condition'])[0]\n",
    "data['city_numerical'] = pd.factorize(data['city'])[0]\n",
    "\n",
    "data = data.drop('type', axis=1)\n",
    "data = data.drop('condition', axis=1)\n",
    "data = data.drop('city',axis=1)\n",
    "\n",
    "data['hasElevator'].fillna('yes', inplace=True)\n",
    "\n",
    "columns_to_change = ['hasParkingSpace', 'hasBalcony', 'hasSecurity','hasStorageRoom','hasElevator']\n",
    "mapping = {'yes': 1, 'no': 0}\n",
    "data[columns_to_change] = data[columns_to_change].applymap(lambda x: mapping.get(x, x))\n",
    "data=data.drop('id', axis=1)\n",
    "\n",
    "rare_columns = ['buildYear', 'buildingMaterial','condition_numerical',\n",
    "                'schoolDistance', 'clinicDistance','kindergartenDistance','restaurantDistance','collegeDistance',\n",
    "                'pharmacyDistance','postOfficeDistance','ownership']\n",
    "data.drop(columns=rare_columns, inplace=True)\n",
    "\n",
    "median_type = data['type_numerical'].median()\n",
    "median_floor = data['floor'].median()\n",
    "median_floorCount = data['floorCount'].median()\n",
    "\n",
    "data['type_numerical'].fillna(median_type, inplace=True)\n",
    "data['floor'].fillna(median_floor, inplace=True)\n",
    "data['floorCount'].fillna(median_floorCount, inplace=True)\n",
    "\n",
    "temp_column = data.pop('price')\n",
    "data['price'] = temp_column\n",
    "\n",
    "#removing outliers\n",
    "Q1 = np.percentile(data['price'], 25)\n",
    "Q3 = np.percentile(data['price'], 75)\n",
    "IQR = Q3 - Q1\n",
    "\n",
    "lower_bound = Q1 - 1.5 * IQR\n",
    "upper_bound = Q3 + 1.5 * IQR\n",
    "data = data[(data['price'] >= lower_bound)&(data['price'] <= upper_bound)]\n",
    "\n",
    "data.head()"
   ],
   "metadata": {
    "collapsed": false,
    "ExecuteTime": {
     "end_time": "2024-05-01T22:00:54.856584200Z",
     "start_time": "2024-05-01T22:00:54.638331100Z"
    }
   },
   "id": "30d3f793ca453f1f"
  },
  {
   "cell_type": "code",
   "execution_count": 90,
   "outputs": [
    {
     "data": {
      "text/plain": "       squareMeters         rooms         floor    floorCount      latitude  \\\ncount  17946.000000  17946.000000  17946.000000  17946.000000  17946.000000   \nmean      56.566692      2.619024      3.266076      5.247576     52.017131   \nstd       19.085414      0.862786      2.256009      3.269428      1.369123   \nmin       25.000000      1.000000      1.000000      1.000000     49.979110   \n25%       43.500000      2.000000      2.000000      3.000000     51.104940   \n50%       53.200000      3.000000      3.000000      4.000000     52.191006   \n75%       65.557500      3.000000      4.000000      6.000000     52.447090   \nmax      150.000000      6.000000     24.000000     28.000000     54.583210   \n\n          longitude  centreDistance      poiCount  hasParkingSpace  \\\ncount  17946.000000    17946.000000  17946.000000     17946.000000   \nmean      19.456807        4.386439     19.460994         0.250919   \nstd        1.787039        2.831929     22.778069         0.433554   \nmin       14.447127        0.020000      0.000000         0.000000   \n25%       18.505806        2.090000      6.000000         0.000000   \n50%       19.884153        4.010000     13.000000         0.000000   \n75%       20.981637        6.160000     23.000000         1.000000   \nmax       23.207128       16.940000    206.000000         1.000000   \n\n         hasBalcony   hasElevator   hasSecurity  hasStorageRoom  \\\ncount  17946.000000  17946.000000  17946.000000    17946.000000   \nmean       0.572885      0.488243      0.098351        0.470021   \nstd        0.494673      0.499876      0.297796        0.499114   \nmin        0.000000      0.000000      0.000000        0.000000   \n25%        0.000000      0.000000      0.000000        0.000000   \n50%        1.000000      0.000000      0.000000        0.000000   \n75%        1.000000      1.000000      0.000000        1.000000   \nmax        1.000000      1.000000      1.000000        1.000000   \n\n       type_numerical  city_numerical         price  \ncount    17946.000000    17946.000000  1.794600e+04  \nmean         0.214644        7.619079  6.391708e+05  \nstd          0.936585        4.646969  2.543942e+05  \nmin         -1.000000        0.000000  1.500000e+05  \n25%          0.000000        3.000000  4.490000e+05  \n50%          0.000000        7.000000  5.999990e+05  \n75%          1.000000       13.000000  7.900000e+05  \nmax          2.000000       14.000000  1.386165e+06  ",
      "text/html": "<div>\n<style scoped>\n    .dataframe tbody tr th:only-of-type {\n        vertical-align: middle;\n    }\n\n    .dataframe tbody tr th {\n        vertical-align: top;\n    }\n\n    .dataframe thead th {\n        text-align: right;\n    }\n</style>\n<table border=\"1\" class=\"dataframe\">\n  <thead>\n    <tr style=\"text-align: right;\">\n      <th></th>\n      <th>squareMeters</th>\n      <th>rooms</th>\n      <th>floor</th>\n      <th>floorCount</th>\n      <th>latitude</th>\n      <th>longitude</th>\n      <th>centreDistance</th>\n      <th>poiCount</th>\n      <th>hasParkingSpace</th>\n      <th>hasBalcony</th>\n      <th>hasElevator</th>\n      <th>hasSecurity</th>\n      <th>hasStorageRoom</th>\n      <th>type_numerical</th>\n      <th>city_numerical</th>\n      <th>price</th>\n    </tr>\n  </thead>\n  <tbody>\n    <tr>\n      <th>count</th>\n      <td>17946.000000</td>\n      <td>17946.000000</td>\n      <td>17946.000000</td>\n      <td>17946.000000</td>\n      <td>17946.000000</td>\n      <td>17946.000000</td>\n      <td>17946.000000</td>\n      <td>17946.000000</td>\n      <td>17946.000000</td>\n      <td>17946.000000</td>\n      <td>17946.000000</td>\n      <td>17946.000000</td>\n      <td>17946.000000</td>\n      <td>17946.000000</td>\n      <td>17946.000000</td>\n      <td>1.794600e+04</td>\n    </tr>\n    <tr>\n      <th>mean</th>\n      <td>56.566692</td>\n      <td>2.619024</td>\n      <td>3.266076</td>\n      <td>5.247576</td>\n      <td>52.017131</td>\n      <td>19.456807</td>\n      <td>4.386439</td>\n      <td>19.460994</td>\n      <td>0.250919</td>\n      <td>0.572885</td>\n      <td>0.488243</td>\n      <td>0.098351</td>\n      <td>0.470021</td>\n      <td>0.214644</td>\n      <td>7.619079</td>\n      <td>6.391708e+05</td>\n    </tr>\n    <tr>\n      <th>std</th>\n      <td>19.085414</td>\n      <td>0.862786</td>\n      <td>2.256009</td>\n      <td>3.269428</td>\n      <td>1.369123</td>\n      <td>1.787039</td>\n      <td>2.831929</td>\n      <td>22.778069</td>\n      <td>0.433554</td>\n      <td>0.494673</td>\n      <td>0.499876</td>\n      <td>0.297796</td>\n      <td>0.499114</td>\n      <td>0.936585</td>\n      <td>4.646969</td>\n      <td>2.543942e+05</td>\n    </tr>\n    <tr>\n      <th>min</th>\n      <td>25.000000</td>\n      <td>1.000000</td>\n      <td>1.000000</td>\n      <td>1.000000</td>\n      <td>49.979110</td>\n      <td>14.447127</td>\n      <td>0.020000</td>\n      <td>0.000000</td>\n      <td>0.000000</td>\n      <td>0.000000</td>\n      <td>0.000000</td>\n      <td>0.000000</td>\n      <td>0.000000</td>\n      <td>-1.000000</td>\n      <td>0.000000</td>\n      <td>1.500000e+05</td>\n    </tr>\n    <tr>\n      <th>25%</th>\n      <td>43.500000</td>\n      <td>2.000000</td>\n      <td>2.000000</td>\n      <td>3.000000</td>\n      <td>51.104940</td>\n      <td>18.505806</td>\n      <td>2.090000</td>\n      <td>6.000000</td>\n      <td>0.000000</td>\n      <td>0.000000</td>\n      <td>0.000000</td>\n      <td>0.000000</td>\n      <td>0.000000</td>\n      <td>0.000000</td>\n      <td>3.000000</td>\n      <td>4.490000e+05</td>\n    </tr>\n    <tr>\n      <th>50%</th>\n      <td>53.200000</td>\n      <td>3.000000</td>\n      <td>3.000000</td>\n      <td>4.000000</td>\n      <td>52.191006</td>\n      <td>19.884153</td>\n      <td>4.010000</td>\n      <td>13.000000</td>\n      <td>0.000000</td>\n      <td>1.000000</td>\n      <td>0.000000</td>\n      <td>0.000000</td>\n      <td>0.000000</td>\n      <td>0.000000</td>\n      <td>7.000000</td>\n      <td>5.999990e+05</td>\n    </tr>\n    <tr>\n      <th>75%</th>\n      <td>65.557500</td>\n      <td>3.000000</td>\n      <td>4.000000</td>\n      <td>6.000000</td>\n      <td>52.447090</td>\n      <td>20.981637</td>\n      <td>6.160000</td>\n      <td>23.000000</td>\n      <td>1.000000</td>\n      <td>1.000000</td>\n      <td>1.000000</td>\n      <td>0.000000</td>\n      <td>1.000000</td>\n      <td>1.000000</td>\n      <td>13.000000</td>\n      <td>7.900000e+05</td>\n    </tr>\n    <tr>\n      <th>max</th>\n      <td>150.000000</td>\n      <td>6.000000</td>\n      <td>24.000000</td>\n      <td>28.000000</td>\n      <td>54.583210</td>\n      <td>23.207128</td>\n      <td>16.940000</td>\n      <td>206.000000</td>\n      <td>1.000000</td>\n      <td>1.000000</td>\n      <td>1.000000</td>\n      <td>1.000000</td>\n      <td>1.000000</td>\n      <td>2.000000</td>\n      <td>14.000000</td>\n      <td>1.386165e+06</td>\n    </tr>\n  </tbody>\n</table>\n</div>"
     },
     "execution_count": 90,
     "metadata": {},
     "output_type": "execute_result"
    }
   ],
   "source": [
    "data.describe()"
   ],
   "metadata": {
    "collapsed": false,
    "ExecuteTime": {
     "end_time": "2024-05-01T22:00:54.920305500Z",
     "start_time": "2024-05-01T22:00:54.764830100Z"
    }
   },
   "id": "c623443349f35cc6"
  },
  {
   "cell_type": "markdown",
   "source": [
    "# Split data into test and train datasets"
   ],
   "metadata": {
    "collapsed": false
   },
   "id": "aea4a93830348673"
  },
  {
   "cell_type": "code",
   "execution_count": 91,
   "outputs": [],
   "source": [
    "X = data.drop('price', axis=1)\n",
    "y = data['price']\n",
    "X_train, X_test, y_train, y_test = train_test_split(X, y, test_size=0.3, random_state=42)"
   ],
   "metadata": {
    "collapsed": false,
    "ExecuteTime": {
     "end_time": "2024-05-01T22:00:55.010065700Z",
     "start_time": "2024-05-01T22:00:54.877733500Z"
    }
   },
   "id": "4fdcf6efd10e630c"
  },
  {
   "cell_type": "markdown",
   "source": [
    "# Random forest regressor"
   ],
   "metadata": {
    "collapsed": false
   },
   "id": "3225f0bdefff0262"
  },
  {
   "cell_type": "code",
   "execution_count": 92,
   "outputs": [],
   "source": [
    "from sklearn.ensemble import RandomForestRegressor\n",
    "\n",
    "rf_model = RandomForestRegressor(n_estimators=100, max_depth=20, max_features='sqrt', random_state=42)\n",
    "rf_model.fit(X_train, y_train)\n",
    "y_pred = rf_model.predict(X_test)"
   ],
   "metadata": {
    "collapsed": false,
    "ExecuteTime": {
     "end_time": "2024-05-01T22:00:59.072735300Z",
     "start_time": "2024-05-01T22:00:54.914321600Z"
    }
   },
   "id": "2c2e324cb67282e1"
  }
 ],
 "metadata": {
  "kernelspec": {
   "display_name": "Python 3 (ipykernel)",
   "language": "python",
   "name": "python3"
  },
  "language_info": {
   "codemirror_mode": {
    "name": "ipython",
    "version": 3
   },
   "file_extension": ".py",
   "mimetype": "text/x-python",
   "name": "python",
   "nbconvert_exporter": "python",
   "pygments_lexer": "ipython3",
   "version": "3.11.9"
  }
 },
 "nbformat": 4,
 "nbformat_minor": 5
}
