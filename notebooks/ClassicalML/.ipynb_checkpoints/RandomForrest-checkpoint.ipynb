{
 "cells": [
  {
   "cell_type": "markdown",
   "metadata": {},
   "source": [
    "# Imports\n",
    "Below are listed imports used in current notebook"
   ]
  },
  {
   "cell_type": "code",
   "execution_count": 36,
   "metadata": {},
   "outputs": [],
   "source": [
    "import sys\n",
    "sys.path.append('../../code')\n",
    "from functions import *\n",
    "\n",
    "from sklearn.ensemble import RandomForestRegressor"
   ]
  },
  {
   "cell_type": "markdown",
   "metadata": {},
   "source": [
    "# Price prediction\n",
    "In chapter below, we predict apartments prices based on acquired data from last year"
   ]
  },
  {
   "cell_type": "markdown",
   "metadata": {},
   "source": [
    "## Data loading and preprocessing\n",
    "We start with defining which datasets will be used"
   ]
  },
  {
   "cell_type": "code",
   "execution_count": 37,
   "metadata": {},
   "outputs": [],
   "source": [
    "price_datasets_array : list = [\n",
    "    '../../data/apartments_pl_2023_08.csv',\n",
    "    '../../data/apartments_pl_2023_09.csv', \n",
    "    '../../data/apartments_pl_2023_10.csv',\n",
    "    '../../data/apartments_pl_2023_11.csv', \n",
    "    '../../data/apartments_pl_2023_12.csv',\n",
    "    '../../data/apartments_pl_2024_01.csv', \n",
    "    '../../data/apartments_pl_2024_02.csv',\n",
    "    '../../data/apartments_pl_2024_03.csv', \n",
    "    '../../data/apartments_pl_2024_04.csv' \n",
    "]"
   ]
  },
  {
   "cell_type": "markdown",
   "metadata": {},
   "source": [
    "Next we define table structure"
   ]
  },
  {
   "cell_type": "code",
   "execution_count": 38,
   "metadata": {},
   "outputs": [],
   "source": [
    "numerical_columns = ['squareMeters', 'rooms', 'floor', 'floorCount', 'buildYear', 'latitude', 'longitude', 'centreDistance', 'poiCount', 'schoolDistance', 'clinicDistance', 'postOfficeDistance', 'kindergartenDistance', 'restaurantDistance', 'collegeDistance', 'pharmacyDistance']\n",
    "categorical_columns = ['city', 'type', 'ownership', 'buildingMaterial', 'condition']\n",
    "boolean_columns = ['hasParkingSpace', 'hasBalcony', 'hasElevator', 'hasSecurity', 'hasStorageRoom']\n",
    "drop_columns = []\n",
    "output_column = 'price'"
   ]
  },
  {
   "cell_type": "markdown",
   "metadata": {},
   "source": [
    "And use prepared functions (`/code/functions.py`) see more at (preprocessing notebook)[[Preprocessing.ipynb]]"
   ]
  },
  {
   "cell_type": "code",
   "execution_count": 39,
   "metadata": {},
   "outputs": [],
   "source": [
    "data = normalize_data(\n",
    "    df = load_data(price_datasets_array).drop('id', axis=1),\n",
    "    numerical_columns=numerical_columns,\n",
    "    categorical_columns=categorical_columns, \n",
    "    boolean_columns=boolean_columns,\n",
    "    fill_method='median'\n",
    ")\n",
    "\n",
    "data = remove_exceptions(data)\n",
    "X_train, X_test, y_train, y_test = split_train_test(data, 'price')"
   ]
  },
  {
   "cell_type": "markdown",
   "metadata": {},
   "source": [
    "## Model training and evaluation"
   ]
  },
  {
   "cell_type": "code",
   "execution_count": 40,
   "metadata": {},
   "outputs": [
    {
     "name": "stdout",
     "output_type": "stream",
     "text": [
      "MSE: 3649908620.5637393\n",
      "MAE: 32089.91089336799\n",
      "R-squared: 0.952755915360589\n"
     ]
    }
   ],
   "source": [
    "rf_model = RandomForestRegressor()\n",
    "\n",
    "rf_model.fit(X_train, y_train)\n",
    "y_pred = rf_model.predict(X_test)\n",
    "\n",
    "evaluate_model(y_test, y_pred)"
   ]
  },
  {
   "cell_type": "code",
   "execution_count": 41,
   "metadata": {},
   "outputs": [
    {
     "name": "stdout",
     "output_type": "stream",
     "text": [
      "MSE: 3738515321.293168\n",
      "MAE: 33389.19193328033\n",
      "R-squared: 0.9496735602441211\n"
     ]
    }
   ],
   "source": [
    "rf_model = RandomForestRegressor(\n",
    "    n_estimators=500, \n",
    "    max_depth=50, \n",
    "    max_features='sqrt', \n",
    "    random_state=42\n",
    ")\n",
    "\n",
    "rf_model.fit(X_train, y_train)\n",
    "y_pred = rf_model.predict(X_test)\n",
    "\n",
    "evaluate_model(y_test, y_pred)"
   ]
  },
  {
   "cell_type": "code",
   "execution_count": 42,
   "metadata": {},
   "outputs": [
    {
     "name": "stdout",
     "output_type": "stream",
     "text": [
      "MSE: 3841832830.2231593\n",
      "MAE: 33885.85196065256\n",
      "R-squared: 0.9479044235676543\n"
     ]
    }
   ],
   "source": [
    "rf_model = RandomForestRegressor(\n",
    "    n_estimators=1000, \n",
    "    max_depth=100, \n",
    "    max_features='log2', \n",
    "    random_state=42\n",
    ")\n",
    "\n",
    "rf_model.fit(X_train, y_train)\n",
    "y_pred = rf_model.predict(X_test)\n",
    "\n",
    "evaluate_model(y_test, y_pred)"
   ]
  },
  {
   "cell_type": "code",
   "execution_count": 43,
   "metadata": {},
   "outputs": [
    {
     "name": "stdout",
     "output_type": "stream",
     "text": [
      "MSE: 4020698662.565246\n",
      "MAE: 35000.632723075025\n",
      "R-squared: 0.9455605278330115\n"
     ]
    }
   ],
   "source": [
    "rf_model = RandomForestRegressor(\n",
    "    n_estimators=50, \n",
    "    max_depth=32, \n",
    "    max_features='log2', \n",
    "    random_state=42\n",
    ")\n",
    "\n",
    "rf_model.fit(X_train, y_train)\n",
    "y_pred = rf_model.predict(X_test)\n",
    "\n",
    "evaluate_model(y_test, y_pred)"
   ]
  },
  {
   "cell_type": "code",
   "execution_count": 44,
   "metadata": {},
   "outputs": [
    {
     "name": "stdout",
     "output_type": "stream",
     "text": [
      "MSE: 37162949951.71342\n",
      "MAE: 149187.6006599503\n",
      "R-squared: -1.0162722255429317\n"
     ]
    }
   ],
   "source": [
    "rf_model = RandomForestRegressor(\n",
    "    n_estimators=50, \n",
    "    max_depth=5, \n",
    "    max_features='sqrt', \n",
    "    random_state=42\n",
    ")\n",
    "\n",
    "rf_model.fit(X_train, y_train)\n",
    "y_pred = rf_model.predict(X_test)\n",
    "\n",
    "evaluate_model(y_test, y_pred)"
   ]
  },
  {
   "cell_type": "code",
   "execution_count": 45,
   "metadata": {},
   "outputs": [
    {
     "name": "stdout",
     "output_type": "stream",
     "text": [
      "MSE: 3760493456.7774806\n",
      "MAE: 33620.15323906389\n",
      "R-squared: 0.949331663562574\n"
     ]
    }
   ],
   "source": [
    "rf_model = RandomForestRegressor(\n",
    "    n_estimators=500, \n",
    "    max_depth=32, \n",
    "    max_features='sqrt', \n",
    "    random_state=42\n",
    ")\n",
    "\n",
    "rf_model.fit(X_train, y_train)\n",
    "y_pred = rf_model.predict(X_test)\n",
    "\n",
    "evaluate_model(y_test, y_pred)"
   ]
  },
  {
   "cell_type": "markdown",
   "metadata": {},
   "source": [
    "# Rent prediction"
   ]
  },
  {
   "cell_type": "code",
   "execution_count": 46,
   "metadata": {},
   "outputs": [],
   "source": [
    "price_data_array_rent : list = [\n",
    "    '../../data/apartments_rent_pl_2023_11.csv', \n",
    "    '../../data/apartments_rent_pl_2023_12.csv',\n",
    "    '../../data/apartments_rent_pl_2024_01.csv', \n",
    "    '../../data/apartments_rent_pl_2024_02.csv',\n",
    "    '../../data/apartments_rent_pl_2024_03.csv', \n",
    "    '../../data/apartments_rent_pl_2024_04.csv' \n",
    "]"
   ]
  },
  {
   "cell_type": "code",
   "execution_count": 47,
   "metadata": {},
   "outputs": [],
   "source": [
    "numerical_columns = ['squareMeters', 'rooms', 'floor', 'floorCount', 'buildYear', 'latitude', 'longitude', 'centreDistance', 'poiCount', 'schoolDistance', 'clinicDistance', 'postOfficeDistance', 'kindergartenDistance', 'restaurantDistance', 'collegeDistance', 'pharmacyDistance']\n",
    "categorical_columns = ['city', 'type', 'ownership', 'buildingMaterial', 'condition']\n",
    "boolean_columns = ['hasParkingSpace', 'hasBalcony', 'hasElevator', 'hasSecurity', 'hasStorageRoom']\n",
    "drop_columns = []\n",
    "output_column = 'price'"
   ]
  },
  {
   "cell_type": "code",
   "execution_count": 48,
   "metadata": {},
   "outputs": [],
   "source": [
    "data = normalize_data(\n",
    "    df = load_data(price_data_array_rent).drop('id', axis=1),\n",
    "    numerical_columns=numerical_columns,\n",
    "    categorical_columns=categorical_columns, \n",
    "    boolean_columns=boolean_columns,\n",
    "    fill_method='median'\n",
    ")\n",
    "\n",
    "data = remove_exceptions(data)\n",
    "X_train, X_test, y_train, y_test = split_train_test(data, 'price')"
   ]
  },
  {
   "cell_type": "markdown",
   "metadata": {},
   "source": [
    "## Model training and evaluation"
   ]
  },
  {
   "cell_type": "code",
   "execution_count": 49,
   "metadata": {},
   "outputs": [
    {
     "name": "stdout",
     "output_type": "stream",
     "text": [
      "MSE: 135932.46691682245\n",
      "MAE: 221.5173518748868\n",
      "R-squared: 0.9175921157426181\n"
     ]
    }
   ],
   "source": [
    "rf_model = RandomForestRegressor()\n",
    "\n",
    "rf_model.fit(X_train, y_train)\n",
    "y_pred = rf_model.predict(X_test)\n",
    "\n",
    "evaluate_model(y_test, y_pred)"
   ]
  },
  {
   "cell_type": "code",
   "execution_count": 50,
   "metadata": {},
   "outputs": [
    {
     "name": "stdout",
     "output_type": "stream",
     "text": [
      "MSE: 129959.66007977576\n",
      "MAE: 219.13451196167915\n",
      "R-squared: 0.9176432129762908\n"
     ]
    }
   ],
   "source": [
    "rf_model = RandomForestRegressor(\n",
    "    n_estimators=500, \n",
    "    max_depth=50, \n",
    "    max_features='sqrt', \n",
    "    random_state=42\n",
    ")\n",
    "\n",
    "rf_model.fit(X_train, y_train)\n",
    "y_pred = rf_model.predict(X_test)\n",
    "\n",
    "evaluate_model(y_test, y_pred)"
   ]
  },
  {
   "cell_type": "code",
   "execution_count": 51,
   "metadata": {},
   "outputs": [
    {
     "name": "stdout",
     "output_type": "stream",
     "text": [
      "MSE: 131385.13844605247\n",
      "MAE: 220.67748635187095\n",
      "R-squared: 0.9160201467172926\n"
     ]
    }
   ],
   "source": [
    "rf_model = RandomForestRegressor(\n",
    "    n_estimators=1000, \n",
    "    max_depth=100, \n",
    "    max_features='log2', \n",
    "    random_state=42\n",
    ")\n",
    "\n",
    "rf_model.fit(X_train, y_train)\n",
    "y_pred = rf_model.predict(X_test)\n",
    "\n",
    "evaluate_model(y_test, y_pred)"
   ]
  }
 ],
 "metadata": {
  "kernelspec": {
   "display_name": "venv",
   "language": "python",
   "name": "python3"
  },
  "language_info": {
   "codemirror_mode": {
    "name": "ipython",
    "version": 3
   },
   "file_extension": ".py",
   "mimetype": "text/x-python",
   "name": "python",
   "nbconvert_exporter": "python",
   "pygments_lexer": "ipython3",
   "version": "3.11.6"
  }
 },
 "nbformat": 4,
 "nbformat_minor": 2
}
