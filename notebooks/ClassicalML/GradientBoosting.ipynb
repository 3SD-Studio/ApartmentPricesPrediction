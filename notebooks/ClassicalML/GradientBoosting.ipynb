{
 "cells": [
  {
   "cell_type": "markdown",
   "metadata": {},
   "source": [
    "# Imports\n",
    "Below are listed imports used in current notebook"
   ]
  },
  {
   "cell_type": "code",
   "execution_count": null,
   "metadata": {},
   "outputs": [],
   "source": [
    "import sys\n",
    "sys.path.append('../../code')\n",
    "from functions import *\n",
    "\n",
    "from sklearn.ensemble import RandomForestRegressor"
   ]
  },
  {
   "cell_type": "markdown",
   "metadata": {},
   "source": [
    "# Price prediction\n",
    "In chapter below, we predict apartments prices based on acquired data from last year"
   ]
  },
  {
   "cell_type": "markdown",
   "metadata": {},
   "source": [
    "## Data loading and preprocessing\n",
    "We start with defining which datasets will be used"
   ]
  },
  {
   "cell_type": "code",
   "execution_count": null,
   "metadata": {},
   "outputs": [],
   "source": [
    "price_datasets_array : list = [\n",
    "    '../../data/apartments_pl_2023_08.csv',\n",
    "    '../../data/apartments_pl_2023_09.csv', \n",
    "    '../../data/apartments_pl_2023_10.csv',\n",
    "    '../../data/apartments_pl_2023_11.csv', \n",
    "    '../../data/apartments_pl_2023_12.csv',\n",
    "    '../../data/apartments_pl_2024_01.csv', \n",
    "    '../../data/apartments_pl_2024_02.csv',\n",
    "    '../../data/apartments_pl_2024_03.csv', \n",
    "    '../../data/apartments_pl_2024_04.csv' \n",
    "]"
   ]
  },
  {
   "cell_type": "markdown",
   "metadata": {},
   "source": [
    "Next we define table structure"
   ]
  },
  {
   "cell_type": "code",
   "execution_count": null,
   "metadata": {},
   "outputs": [],
   "source": [
    "numerical_columns = ['squareMeters', 'rooms', 'floor', 'floorCount', 'buildYear', 'latitude', 'longitude', 'centreDistance', 'poiCount', 'schoolDistance', 'clinicDistance', 'postOfficeDistance', 'kindergartenDistance', 'restaurantDistance', 'collegeDistance', 'pharmacyDistance']\n",
    "categorical_columns = ['city', 'type', 'ownership', 'buildingMaterial', 'condition']\n",
    "boolean_columns = ['hasParkingSpace', 'hasBalcony', 'hasElevator', 'hasSecurity', 'hasStorageRoom']\n",
    "drop_columns = []\n",
    "output_column = 'price'"
   ]
  },
  {
   "cell_type": "markdown",
   "metadata": {},
   "source": [
    "And use prepared functions (`/code/functions.py`) see more at"
   ]
  },
  {
   "cell_type": "code",
   "execution_count": null,
   "metadata": {},
   "outputs": [],
   "source": [
    "data = normalize_data(\n",
    "    df = load_data(price_datasets_array).drop('id', axis=1),\n",
    "    numerical_columns=numerical_columns,\n",
    "    categorical_columns=categorical_columns, \n",
    "    boolean_columns=boolean_columns,\n",
    "    fill_method='median'\n",
    ")\n",
    "\n",
    "data = remove_exceptions(data)\n",
    "X_train, X_test, y_train, y_test = split_train_test(data, 'price')"
   ]
  },
  {
   "cell_type": "code",
   "execution_count": null,
   "metadata": {},
   "outputs": [],
   "source": []
  },
  {
   "cell_type": "code",
   "execution_count": null,
   "metadata": {},
   "outputs": [],
   "source": []
  },
  {
   "cell_type": "code",
   "execution_count": null,
   "metadata": {},
   "outputs": [],
   "source": []
  },
  {
   "cell_type": "code",
   "execution_count": null,
   "metadata": {},
   "outputs": [],
   "source": []
  },
  {
   "cell_type": "code",
   "execution_count": null,
   "metadata": {},
   "outputs": [],
   "source": []
  }
 ],
 "metadata": {
  "kernelspec": {
   "display_name": "Python 3 (ipykernel)",
   "language": "python",
   "name": "python3"
  },
  "language_info": {
   "codemirror_mode": {
    "name": "ipython",
    "version": 3
   },
   "file_extension": ".py",
   "mimetype": "text/x-python",
   "name": "python",
   "nbconvert_exporter": "python",
   "pygments_lexer": "ipython3",
   "version": "3.11.6"
  }
 },
 "nbformat": 4,
 "nbformat_minor": 4
}
