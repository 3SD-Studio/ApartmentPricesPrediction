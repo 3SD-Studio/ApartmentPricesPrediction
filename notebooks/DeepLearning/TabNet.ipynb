{
 "cells": [
  {
   "cell_type": "markdown",
   "metadata": {},
   "source": [
    "## List of project's dependencies\n",
    "Below are listed imports that are needed for program to work properly commented with required install (see also requirements.txt)"
   ]
  },
  {
   "cell_type": "code",
   "execution_count": null,
   "metadata": {},
   "outputs": [],
   "source": [
    "import pandas as pd\n",
    "import numpy as np\n",
    "from sklearn.model_selection import train_test_split\n",
    "from pytorch_tabnet.tab_model import TabNetRegressor\n",
    "\n",
    "import sys\n",
    "sys.path.append('../../code')\n",
    "from functions import *"
   ]
  },
  {
   "cell_type": "markdown",
   "metadata": {},
   "source": [
    "## Price prediction"
   ]
  },
  {
   "cell_type": "markdown",
   "metadata": {},
   "source": [
    "Data loading and preprocessing with use of prepared functions (`/code/functions.py`). \n",
    "<br>See more at (preprocessing notebook)[[Preprocessing.ipynb]]"
   ]
  },
  {
   "cell_type": "code",
   "execution_count": 16,
   "metadata": {},
   "outputs": [],
   "source": [
    "X_train, X_test, y_train, y_test = price_preprocessing()\n",
    "X_train, X_validate, y_train, y_validate = train_test_split(X_train, y_train, test_size=0.25, random_state=1)\n",
    "\n",
    "X_train = np.array(X_train, dtype=np.float32)\n",
    "X_test  = np.array(X_test, dtype=np.float32)\n",
    "X_validate = np.array(X_validate, dtype=np.float32)\n",
    "y_train = np.array(y_train, dtype=np.float32).reshape(-1, 1)\n",
    "y_test  = np.array(y_test, dtype=np.float32).reshape(-1, 1)\n",
    "y_validate  = np.array(y_validate, dtype=np.float32).reshape(-1, 1)"
   ]
  },
  {
   "cell_type": "markdown",
   "metadata": {},
   "source": [
    "## Model training and evaluation"
   ]
  },
  {
   "cell_type": "code",
   "execution_count": null,
   "metadata": {},
   "outputs": [],
   "source": [
    "tab_regressor = TabNetRegressor()\n",
    "\n",
    "tab_regressor.fit(X_train, y_train)\n",
    "y_pred = tab_regressor.predict(X_test)\n",
    "\n",
    "evaluate_model(y_test, y_pred)"
   ]
  },
  {
   "cell_type": "code",
   "execution_count": null,
   "metadata": {},
   "outputs": [],
   "source": [
    "tab_regressor = TabNetRegressor(\n",
    "    n_d=64,\n",
    "    n_a=64,\n",
    "    n_steps = 5,\n",
    "    gamma=1.5,\n",
    "    lambda_sparse=0,\n",
    "    optimizer_params=dict(lr=2e-2),\n",
    "    mask_type='entmax',\n",
    "    scheduler_params={\"step_size\": 10, \"gamma\": 0.9}\n",
    ")\n",
    "\n",
    "tab_regressor.fit(X_train, y_train)\n",
    "y_pred = tab_regressor.predict(X_test)\n",
    "\n",
    "evaluate_model(y_test, y_pred)"
   ]
  },
  {
   "cell_type": "code",
   "execution_count": null,
   "metadata": {},
   "outputs": [],
   "source": [
    "tab_regressor.fit(\n",
    "    X_train=X_train, y_train=y_train,\n",
    "    eval_set=[(X_validate, y_validate), (X_train, y_train)],\n",
    "    max_epochs=150,\n",
    "    patience=20,\n",
    "    batch_size=128, \n",
    "    virtual_batch_size=16,\n",
    "    num_workers=0,\n",
    "    drop_last=False\n",
    ")\n",
    "\n",
    "y_pred = tab_regressor.predict(X_test)\n",
    "\n",
    "evaluate_model(y_test, y_pred)"
   ]
  }
 ],
 "metadata": {
  "kernelspec": {
   "display_name": "Python 3 (ipykernel)",
   "language": "python",
   "name": "python3"
  },
  "language_info": {
   "codemirror_mode": {
    "name": "ipython",
    "version": 3
   },
   "file_extension": ".py",
   "mimetype": "text/x-python",
   "name": "python",
   "nbconvert_exporter": "python",
   "pygments_lexer": "ipython3",
   "version": "3.11.6"
  }
 },
 "nbformat": 4,
 "nbformat_minor": 2
}
